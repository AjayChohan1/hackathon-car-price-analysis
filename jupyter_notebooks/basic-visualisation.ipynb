{
 "cells": [
  {
   "cell_type": "markdown",
   "id": "8af53c71",
   "metadata": {},
   "source": [
    "# Payal - Data Analyst: Basic Visuals"
   ]
  },
  {
   "cell_type": "markdown",
   "id": "b2de55a1",
   "metadata": {},
   "source": [
    "### Objective\n",
    "The primary objective of this notebook is to demonstrate a complete workflow for cleaning, analyzing, and visualizing a car dataset. The focus is on understanding the relationships between various car features (such as price, horsepower, engine size, and fuel type) and extracting actionable insights for data-driven decision-making.\n",
    "\n",
    "### Inputs\n",
    "- **Raw Dataset:** A CSV file containing car data with various features (e.g., price, horsepower, engine size, fuel type, etc.).\n",
    "- **Encoded Dataset (`df`, `df_filled`):** Handling of missing/negative values.\n",
    "- **Cleaned Categorical Dataset (`df_stage1`):** Used for visualizations that require original categorical variables (e.g., top 10 car makes by average price, engine size vs. price by fuel type).\n",
    "\n",
    "### Outputs\n",
    "- **Cleaned DataFrames:** \n",
    "    - `df`: Raw data with missing and negative values.\n",
    "    - `df_filled`: Cleaned data with negative values replaced by column medians.\n",
    "    - `df_stage1`: Cleaned data with categorical variables preserved for visualization.\n",
    "- **Visualizations:**\n",
    "    - Bar plot for average Car Price by Brand.\n",
    "    - Scatter plots showing relationships between Car Price and Engine Size by Fuel Type.\n",
    "    - Pie chart of fuel type distribution using plotly.\n",
    "- **Insights:** Markdown summaries after each visualization, highlighting key findings and trends.\n",
    "\n",
    "### Additional Comments\n",
    "- The notebook emphasizes proper data cleaning, especially handling negative and missing values by replacing them with medians to maintain data integrity.\n",
    "- The workflow is modular, with clear separation between data loading, cleaning, visualization, and interpretation.\n",
    "- The notebook saves cleaned datasets for reproducibility and downstream analysis, making it suitable for both exploratory data analysis and as a foundation for further modeling or reporting."
   ]
  },
  {
   "cell_type": "markdown",
   "id": "5238d381",
   "metadata": {},
   "source": [
    "----\n",
    "### **1. importing necessary libraries**"
   ]
  },
  {
   "cell_type": "code",
   "execution_count": 1,
   "id": "901f218b",
   "metadata": {},
   "outputs": [],
   "source": [
    "import matplotlib.pyplot as plt\n",
    "import plotly.express as px\n",
    "import seaborn as sns\n",
    "import pandas as pd\n",
    "import numpy as np\n"
   ]
  },
  {
   "cell_type": "markdown",
   "id": "d0041122",
   "metadata": {
    "vscode": {
     "languageId": "markdown"
    }
   },
   "source": [
    "-----\n",
    "### **2. Load and Preview the Dataset**\n",
    "\n",
    "- The dataset is loaded from a CSV file into a pandas DataFrame named `df`.\n",
    "- The shape of the dataset is displayed to show the number of rows and columns.\n",
    "- The first few rows of the dataset are shown for a quick preview.\n"
   ]
  },
  {
   "cell_type": "code",
   "execution_count": 2,
   "id": "21690f32",
   "metadata": {},
   "outputs": [
    {
     "name": "stdout",
     "output_type": "stream",
     "text": [
      "Dataset loaded with shape: (205, 16)\n"
     ]
    },
    {
     "data": {
      "text/html": [
       "<div>\n",
       "<style scoped>\n",
       "    .dataframe tbody tr th:only-of-type {\n",
       "        vertical-align: middle;\n",
       "    }\n",
       "\n",
       "    .dataframe tbody tr th {\n",
       "        vertical-align: top;\n",
       "    }\n",
       "\n",
       "    .dataframe thead th {\n",
       "        text-align: right;\n",
       "    }\n",
       "</style>\n",
       "<table border=\"1\" class=\"dataframe\">\n",
       "  <thead>\n",
       "    <tr style=\"text-align: right;\">\n",
       "      <th></th>\n",
       "      <th>price_per_cc</th>\n",
       "      <th>curbweight</th>\n",
       "      <th>horsepower</th>\n",
       "      <th>highwaympg</th>\n",
       "      <th>enginesize</th>\n",
       "      <th>citympg</th>\n",
       "      <th>carwidth</th>\n",
       "      <th>wheelbase</th>\n",
       "      <th>carlength</th>\n",
       "      <th>boreratio</th>\n",
       "      <th>car_id</th>\n",
       "      <th>stroke</th>\n",
       "      <th>carheight</th>\n",
       "      <th>fuelsystem_2bbl</th>\n",
       "      <th>fuelsystem_mpfi</th>\n",
       "      <th>price</th>\n",
       "    </tr>\n",
       "  </thead>\n",
       "  <tbody>\n",
       "    <tr>\n",
       "      <th>0</th>\n",
       "      <td>0.123893</td>\n",
       "      <td>-0.014566</td>\n",
       "      <td>0.174483</td>\n",
       "      <td>-0.546059</td>\n",
       "      <td>0.074449</td>\n",
       "      <td>-0.646553</td>\n",
       "      <td>-0.844782</td>\n",
       "      <td>-1.690772</td>\n",
       "      <td>-0.426521</td>\n",
       "      <td>0.519071</td>\n",
       "      <td>-1.723622</td>\n",
       "      <td>-1.839377</td>\n",
       "      <td>-2.020417</td>\n",
       "      <td>-0.689072</td>\n",
       "      <td>1.08667</td>\n",
       "      <td>13495.0</td>\n",
       "    </tr>\n",
       "    <tr>\n",
       "      <th>1</th>\n",
       "      <td>0.831337</td>\n",
       "      <td>-0.014566</td>\n",
       "      <td>0.174483</td>\n",
       "      <td>-0.546059</td>\n",
       "      <td>0.074449</td>\n",
       "      <td>-0.646553</td>\n",
       "      <td>-0.844782</td>\n",
       "      <td>-1.690772</td>\n",
       "      <td>-0.426521</td>\n",
       "      <td>0.519071</td>\n",
       "      <td>-1.706724</td>\n",
       "      <td>-1.839377</td>\n",
       "      <td>-2.020417</td>\n",
       "      <td>-0.689072</td>\n",
       "      <td>1.08667</td>\n",
       "      <td>16500.0</td>\n",
       "    </tr>\n",
       "    <tr>\n",
       "      <th>2</th>\n",
       "      <td>0.269112</td>\n",
       "      <td>0.514882</td>\n",
       "      <td>1.264536</td>\n",
       "      <td>-0.691627</td>\n",
       "      <td>0.604046</td>\n",
       "      <td>-0.953012</td>\n",
       "      <td>-0.190566</td>\n",
       "      <td>-0.708596</td>\n",
       "      <td>-0.231513</td>\n",
       "      <td>-2.404880</td>\n",
       "      <td>-1.689826</td>\n",
       "      <td>0.685946</td>\n",
       "      <td>-0.543527</td>\n",
       "      <td>-0.689072</td>\n",
       "      <td>1.08667</td>\n",
       "      <td>16500.0</td>\n",
       "    </tr>\n",
       "    <tr>\n",
       "      <th>3</th>\n",
       "      <td>0.863735</td>\n",
       "      <td>-0.420797</td>\n",
       "      <td>-0.053668</td>\n",
       "      <td>-0.109354</td>\n",
       "      <td>-0.431076</td>\n",
       "      <td>-0.186865</td>\n",
       "      <td>0.136542</td>\n",
       "      <td>0.173698</td>\n",
       "      <td>0.207256</td>\n",
       "      <td>-0.517266</td>\n",
       "      <td>-1.672928</td>\n",
       "      <td>0.462183</td>\n",
       "      <td>0.235942</td>\n",
       "      <td>-0.689072</td>\n",
       "      <td>1.08667</td>\n",
       "      <td>13950.0</td>\n",
       "    </tr>\n",
       "    <tr>\n",
       "      <th>4</th>\n",
       "      <td>0.873748</td>\n",
       "      <td>0.516807</td>\n",
       "      <td>0.275883</td>\n",
       "      <td>-1.273900</td>\n",
       "      <td>0.218885</td>\n",
       "      <td>-1.106241</td>\n",
       "      <td>0.230001</td>\n",
       "      <td>0.107110</td>\n",
       "      <td>0.207256</td>\n",
       "      <td>-0.517266</td>\n",
       "      <td>-1.656029</td>\n",
       "      <td>0.462183</td>\n",
       "      <td>0.235942</td>\n",
       "      <td>-0.689072</td>\n",
       "      <td>1.08667</td>\n",
       "      <td>17450.0</td>\n",
       "    </tr>\n",
       "  </tbody>\n",
       "</table>\n",
       "</div>"
      ],
      "text/plain": [
       "   price_per_cc  curbweight  horsepower  highwaympg  enginesize   citympg  \\\n",
       "0      0.123893   -0.014566    0.174483   -0.546059    0.074449 -0.646553   \n",
       "1      0.831337   -0.014566    0.174483   -0.546059    0.074449 -0.646553   \n",
       "2      0.269112    0.514882    1.264536   -0.691627    0.604046 -0.953012   \n",
       "3      0.863735   -0.420797   -0.053668   -0.109354   -0.431076 -0.186865   \n",
       "4      0.873748    0.516807    0.275883   -1.273900    0.218885 -1.106241   \n",
       "\n",
       "   carwidth  wheelbase  carlength  boreratio    car_id    stroke  carheight  \\\n",
       "0 -0.844782  -1.690772  -0.426521   0.519071 -1.723622 -1.839377  -2.020417   \n",
       "1 -0.844782  -1.690772  -0.426521   0.519071 -1.706724 -1.839377  -2.020417   \n",
       "2 -0.190566  -0.708596  -0.231513  -2.404880 -1.689826  0.685946  -0.543527   \n",
       "3  0.136542   0.173698   0.207256  -0.517266 -1.672928  0.462183   0.235942   \n",
       "4  0.230001   0.107110   0.207256  -0.517266 -1.656029  0.462183   0.235942   \n",
       "\n",
       "   fuelsystem_2bbl  fuelsystem_mpfi    price  \n",
       "0        -0.689072          1.08667  13495.0  \n",
       "1        -0.689072          1.08667  16500.0  \n",
       "2        -0.689072          1.08667  16500.0  \n",
       "3        -0.689072          1.08667  13950.0  \n",
       "4        -0.689072          1.08667  17450.0  "
      ]
     },
     "execution_count": 2,
     "metadata": {},
     "output_type": "execute_result"
    }
   ],
   "source": [
    "df = pd.read_csv(\"../data/final_cleaned_dataset.csv\")\n",
    "\n",
    "print(\"Dataset loaded with shape:\", df.shape)\n",
    "df.head()"
   ]
  },
  {
   "cell_type": "markdown",
   "id": "37a6db30",
   "metadata": {},
   "source": [
    "------\n",
    "### **3. Handling Negative Values in the Dataset**\n",
    "\n",
    "- Replacing negative values with zero was not appropriate for this dataset, as zero is not a meaningful value for most columns and would have skewed the data and distorted visualizations.\n",
    "- Instead, I replaced negative values with the column median, which helps preserve the overall distribution and integrity of the data while handling invalid entries more appropriately.\n",
    "- Saving the new data set as cleaned_final_for _power_bi.csv"
   ]
  },
  {
   "cell_type": "code",
   "execution_count": 3,
   "id": "5283b599",
   "metadata": {},
   "outputs": [
    {
     "name": "stdout",
     "output_type": "stream",
     "text": [
      "✅ Cleaned dataset saved as 'cleaned_dataset_for_power_bi.csv' with median values replacing invalid entries.\n"
     ]
    }
   ],
   "source": [
    "# Replace all negative values with NaN\n",
    "df[df < 0] = np.nan\n",
    "\n",
    "# Fill NaN values with column median\n",
    "df_filled = df.fillna(df.median(numeric_only=True))\n",
    "\n",
    "# Try saving to a new file name to avoid PermissionError\n",
    "df_filled.to_csv(\"../data/cleaned_dataset_for_power_bi.csv\", index=False)\n",
    "print(\"✅ Cleaned dataset saved as 'cleaned_dataset_for_power_bi.csv' with median values replacing invalid entries.\")"
   ]
  },
  {
   "cell_type": "code",
   "execution_count": 17,
   "id": "e27287c3",
   "metadata": {},
   "outputs": [
    {
     "data": {
      "text/html": [
       "<div>\n",
       "<style scoped>\n",
       "    .dataframe tbody tr th:only-of-type {\n",
       "        vertical-align: middle;\n",
       "    }\n",
       "\n",
       "    .dataframe tbody tr th {\n",
       "        vertical-align: top;\n",
       "    }\n",
       "\n",
       "    .dataframe thead th {\n",
       "        text-align: right;\n",
       "    }\n",
       "</style>\n",
       "<table border=\"1\" class=\"dataframe\">\n",
       "  <thead>\n",
       "    <tr style=\"text-align: right;\">\n",
       "      <th></th>\n",
       "      <th>price_per_cc</th>\n",
       "      <th>curbweight</th>\n",
       "      <th>horsepower</th>\n",
       "      <th>highwaympg</th>\n",
       "      <th>enginesize</th>\n",
       "      <th>citympg</th>\n",
       "      <th>carwidth</th>\n",
       "      <th>wheelbase</th>\n",
       "      <th>carlength</th>\n",
       "      <th>boreratio</th>\n",
       "      <th>car_id</th>\n",
       "      <th>stroke</th>\n",
       "      <th>carheight</th>\n",
       "      <th>fuelsystem_2bbl</th>\n",
       "      <th>fuelsystem_mpfi</th>\n",
       "      <th>price</th>\n",
       "    </tr>\n",
       "  </thead>\n",
       "  <tbody>\n",
       "    <tr>\n",
       "      <th>0</th>\n",
       "      <td>0.123893</td>\n",
       "      <td>0.939403</td>\n",
       "      <td>0.174483</td>\n",
       "      <td>0.83684</td>\n",
       "      <td>0.074449</td>\n",
       "      <td>0.88574</td>\n",
       "      <td>0.603839</td>\n",
       "      <td>0.789639</td>\n",
       "      <td>1.019791</td>\n",
       "      <td>0.519071</td>\n",
       "      <td>0.861811</td>\n",
       "      <td>0.462183</td>\n",
       "      <td>0.728239</td>\n",
       "      <td>1.451227</td>\n",
       "      <td>1.08667</td>\n",
       "      <td>13495.0</td>\n",
       "    </tr>\n",
       "    <tr>\n",
       "      <th>1</th>\n",
       "      <td>0.831337</td>\n",
       "      <td>0.939403</td>\n",
       "      <td>0.174483</td>\n",
       "      <td>0.83684</td>\n",
       "      <td>0.074449</td>\n",
       "      <td>0.88574</td>\n",
       "      <td>0.603839</td>\n",
       "      <td>0.789639</td>\n",
       "      <td>1.019791</td>\n",
       "      <td>0.519071</td>\n",
       "      <td>0.861811</td>\n",
       "      <td>0.462183</td>\n",
       "      <td>0.728239</td>\n",
       "      <td>1.451227</td>\n",
       "      <td>1.08667</td>\n",
       "      <td>16500.0</td>\n",
       "    </tr>\n",
       "    <tr>\n",
       "      <th>2</th>\n",
       "      <td>0.269112</td>\n",
       "      <td>0.514882</td>\n",
       "      <td>1.264536</td>\n",
       "      <td>0.83684</td>\n",
       "      <td>0.604046</td>\n",
       "      <td>0.88574</td>\n",
       "      <td>0.603839</td>\n",
       "      <td>0.789639</td>\n",
       "      <td>1.019791</td>\n",
       "      <td>0.963216</td>\n",
       "      <td>0.861811</td>\n",
       "      <td>0.685946</td>\n",
       "      <td>0.728239</td>\n",
       "      <td>1.451227</td>\n",
       "      <td>1.08667</td>\n",
       "      <td>16500.0</td>\n",
       "    </tr>\n",
       "    <tr>\n",
       "      <th>3</th>\n",
       "      <td>0.863735</td>\n",
       "      <td>0.939403</td>\n",
       "      <td>0.782885</td>\n",
       "      <td>0.83684</td>\n",
       "      <td>0.604046</td>\n",
       "      <td>0.88574</td>\n",
       "      <td>0.136542</td>\n",
       "      <td>0.173698</td>\n",
       "      <td>0.207256</td>\n",
       "      <td>0.963216</td>\n",
       "      <td>0.861811</td>\n",
       "      <td>0.462183</td>\n",
       "      <td>0.235942</td>\n",
       "      <td>1.451227</td>\n",
       "      <td>1.08667</td>\n",
       "      <td>13950.0</td>\n",
       "    </tr>\n",
       "    <tr>\n",
       "      <th>4</th>\n",
       "      <td>0.873748</td>\n",
       "      <td>0.516807</td>\n",
       "      <td>0.275883</td>\n",
       "      <td>0.83684</td>\n",
       "      <td>0.218885</td>\n",
       "      <td>0.88574</td>\n",
       "      <td>0.230001</td>\n",
       "      <td>0.107110</td>\n",
       "      <td>0.207256</td>\n",
       "      <td>0.963216</td>\n",
       "      <td>0.861811</td>\n",
       "      <td>0.462183</td>\n",
       "      <td>0.235942</td>\n",
       "      <td>1.451227</td>\n",
       "      <td>1.08667</td>\n",
       "      <td>17450.0</td>\n",
       "    </tr>\n",
       "  </tbody>\n",
       "</table>\n",
       "</div>"
      ],
      "text/plain": [
       "   price_per_cc  curbweight  horsepower  highwaympg  enginesize  citympg  \\\n",
       "0      0.123893    0.939403    0.174483     0.83684    0.074449  0.88574   \n",
       "1      0.831337    0.939403    0.174483     0.83684    0.074449  0.88574   \n",
       "2      0.269112    0.514882    1.264536     0.83684    0.604046  0.88574   \n",
       "3      0.863735    0.939403    0.782885     0.83684    0.604046  0.88574   \n",
       "4      0.873748    0.516807    0.275883     0.83684    0.218885  0.88574   \n",
       "\n",
       "   carwidth  wheelbase  carlength  boreratio    car_id    stroke  carheight  \\\n",
       "0  0.603839   0.789639   1.019791   0.519071  0.861811  0.462183   0.728239   \n",
       "1  0.603839   0.789639   1.019791   0.519071  0.861811  0.462183   0.728239   \n",
       "2  0.603839   0.789639   1.019791   0.963216  0.861811  0.685946   0.728239   \n",
       "3  0.136542   0.173698   0.207256   0.963216  0.861811  0.462183   0.235942   \n",
       "4  0.230001   0.107110   0.207256   0.963216  0.861811  0.462183   0.235942   \n",
       "\n",
       "   fuelsystem_2bbl  fuelsystem_mpfi    price  \n",
       "0         1.451227          1.08667  13495.0  \n",
       "1         1.451227          1.08667  16500.0  \n",
       "2         1.451227          1.08667  16500.0  \n",
       "3         1.451227          1.08667  13950.0  \n",
       "4         1.451227          1.08667  17450.0  "
      ]
     },
     "execution_count": 17,
     "metadata": {},
     "output_type": "execute_result"
    }
   ],
   "source": [
    "df_filled.head()"
   ]
  },
  {
   "cell_type": "markdown",
   "id": "a6050aab",
   "metadata": {},
   "source": [
    "----\n",
    "#### **4. Using Cleaned Categorical Data for Visualization**\n",
    "In the following visualizations, I will be using the **cleaned_data_stage1** dataset (`df_stage1`). This version of the data preserves the original categorical variables, making it ideal for generating insightful and interpretable plots related to car features and pricing."
   ]
  },
  {
   "cell_type": "code",
   "execution_count": null,
   "id": "edbda808",
   "metadata": {},
   "outputs": [
    {
     "name": "stdout",
     "output_type": "stream",
     "text": [
      "✅ cleaned_data_stage1 loaded with shape: (205, 27)\n"
     ]
    },
    {
     "data": {
      "text/html": [
       "<div>\n",
       "<style scoped>\n",
       "    .dataframe tbody tr th:only-of-type {\n",
       "        vertical-align: middle;\n",
       "    }\n",
       "\n",
       "    .dataframe tbody tr th {\n",
       "        vertical-align: top;\n",
       "    }\n",
       "\n",
       "    .dataframe thead th {\n",
       "        text-align: right;\n",
       "    }\n",
       "</style>\n",
       "<table border=\"1\" class=\"dataframe\">\n",
       "  <thead>\n",
       "    <tr style=\"text-align: right;\">\n",
       "      <th></th>\n",
       "      <th>car_id</th>\n",
       "      <th>symboling</th>\n",
       "      <th>carname</th>\n",
       "      <th>fueltype</th>\n",
       "      <th>aspiration</th>\n",
       "      <th>doornumber</th>\n",
       "      <th>carbody</th>\n",
       "      <th>drivewheel</th>\n",
       "      <th>enginelocation</th>\n",
       "      <th>wheelbase</th>\n",
       "      <th>...</th>\n",
       "      <th>fuelsystem</th>\n",
       "      <th>boreratio</th>\n",
       "      <th>stroke</th>\n",
       "      <th>compressionratio</th>\n",
       "      <th>horsepower</th>\n",
       "      <th>peakrpm</th>\n",
       "      <th>citympg</th>\n",
       "      <th>highwaympg</th>\n",
       "      <th>price</th>\n",
       "      <th>price_per_cc</th>\n",
       "    </tr>\n",
       "  </thead>\n",
       "  <tbody>\n",
       "    <tr>\n",
       "      <th>0</th>\n",
       "      <td>1</td>\n",
       "      <td>3</td>\n",
       "      <td>alfa-romero giulia</td>\n",
       "      <td>gas</td>\n",
       "      <td>std</td>\n",
       "      <td>two</td>\n",
       "      <td>convertible</td>\n",
       "      <td>rwd</td>\n",
       "      <td>front</td>\n",
       "      <td>88.6</td>\n",
       "      <td>...</td>\n",
       "      <td>mpfi</td>\n",
       "      <td>3.47</td>\n",
       "      <td>2.68</td>\n",
       "      <td>9.0</td>\n",
       "      <td>111</td>\n",
       "      <td>5000</td>\n",
       "      <td>21</td>\n",
       "      <td>27</td>\n",
       "      <td>13495.0</td>\n",
       "      <td>103.807692</td>\n",
       "    </tr>\n",
       "    <tr>\n",
       "      <th>1</th>\n",
       "      <td>2</td>\n",
       "      <td>3</td>\n",
       "      <td>alfa-romero stelvio</td>\n",
       "      <td>gas</td>\n",
       "      <td>std</td>\n",
       "      <td>two</td>\n",
       "      <td>convertible</td>\n",
       "      <td>rwd</td>\n",
       "      <td>front</td>\n",
       "      <td>88.6</td>\n",
       "      <td>...</td>\n",
       "      <td>mpfi</td>\n",
       "      <td>3.47</td>\n",
       "      <td>2.68</td>\n",
       "      <td>9.0</td>\n",
       "      <td>111</td>\n",
       "      <td>5000</td>\n",
       "      <td>21</td>\n",
       "      <td>27</td>\n",
       "      <td>16500.0</td>\n",
       "      <td>126.923077</td>\n",
       "    </tr>\n",
       "    <tr>\n",
       "      <th>2</th>\n",
       "      <td>3</td>\n",
       "      <td>1</td>\n",
       "      <td>alfa-romero Quadrifoglio</td>\n",
       "      <td>gas</td>\n",
       "      <td>std</td>\n",
       "      <td>two</td>\n",
       "      <td>hatchback</td>\n",
       "      <td>rwd</td>\n",
       "      <td>front</td>\n",
       "      <td>94.5</td>\n",
       "      <td>...</td>\n",
       "      <td>mpfi</td>\n",
       "      <td>2.68</td>\n",
       "      <td>3.47</td>\n",
       "      <td>9.0</td>\n",
       "      <td>154</td>\n",
       "      <td>5000</td>\n",
       "      <td>19</td>\n",
       "      <td>26</td>\n",
       "      <td>16500.0</td>\n",
       "      <td>108.552632</td>\n",
       "    </tr>\n",
       "    <tr>\n",
       "      <th>3</th>\n",
       "      <td>4</td>\n",
       "      <td>2</td>\n",
       "      <td>audi 100 ls</td>\n",
       "      <td>gas</td>\n",
       "      <td>std</td>\n",
       "      <td>four</td>\n",
       "      <td>sedan</td>\n",
       "      <td>fwd</td>\n",
       "      <td>front</td>\n",
       "      <td>99.8</td>\n",
       "      <td>...</td>\n",
       "      <td>mpfi</td>\n",
       "      <td>3.19</td>\n",
       "      <td>3.40</td>\n",
       "      <td>10.0</td>\n",
       "      <td>102</td>\n",
       "      <td>5500</td>\n",
       "      <td>24</td>\n",
       "      <td>30</td>\n",
       "      <td>13950.0</td>\n",
       "      <td>127.981651</td>\n",
       "    </tr>\n",
       "    <tr>\n",
       "      <th>4</th>\n",
       "      <td>5</td>\n",
       "      <td>2</td>\n",
       "      <td>audi 100ls</td>\n",
       "      <td>gas</td>\n",
       "      <td>std</td>\n",
       "      <td>four</td>\n",
       "      <td>sedan</td>\n",
       "      <td>4wd</td>\n",
       "      <td>front</td>\n",
       "      <td>99.4</td>\n",
       "      <td>...</td>\n",
       "      <td>mpfi</td>\n",
       "      <td>3.19</td>\n",
       "      <td>3.40</td>\n",
       "      <td>8.0</td>\n",
       "      <td>115</td>\n",
       "      <td>5500</td>\n",
       "      <td>18</td>\n",
       "      <td>22</td>\n",
       "      <td>17450.0</td>\n",
       "      <td>128.308824</td>\n",
       "    </tr>\n",
       "  </tbody>\n",
       "</table>\n",
       "<p>5 rows × 27 columns</p>\n",
       "</div>"
      ],
      "text/plain": [
       "   car_id  symboling                   carname fueltype aspiration doornumber  \\\n",
       "0       1          3        alfa-romero giulia      gas        std        two   \n",
       "1       2          3       alfa-romero stelvio      gas        std        two   \n",
       "2       3          1  alfa-romero Quadrifoglio      gas        std        two   \n",
       "3       4          2               audi 100 ls      gas        std       four   \n",
       "4       5          2                audi 100ls      gas        std       four   \n",
       "\n",
       "       carbody drivewheel enginelocation  wheelbase  ...  fuelsystem  \\\n",
       "0  convertible        rwd          front       88.6  ...        mpfi   \n",
       "1  convertible        rwd          front       88.6  ...        mpfi   \n",
       "2    hatchback        rwd          front       94.5  ...        mpfi   \n",
       "3        sedan        fwd          front       99.8  ...        mpfi   \n",
       "4        sedan        4wd          front       99.4  ...        mpfi   \n",
       "\n",
       "   boreratio  stroke  compressionratio horsepower peakrpm  citympg highwaympg  \\\n",
       "0       3.47    2.68               9.0        111    5000       21         27   \n",
       "1       3.47    2.68               9.0        111    5000       21         27   \n",
       "2       2.68    3.47               9.0        154    5000       19         26   \n",
       "3       3.19    3.40              10.0        102    5500       24         30   \n",
       "4       3.19    3.40               8.0        115    5500       18         22   \n",
       "\n",
       "     price  price_per_cc  \n",
       "0  13495.0    103.807692  \n",
       "1  16500.0    126.923077  \n",
       "2  16500.0    108.552632  \n",
       "3  13950.0    127.981651  \n",
       "4  17450.0    128.308824  \n",
       "\n",
       "[5 rows x 27 columns]"
      ]
     },
     "execution_count": 14,
     "metadata": {},
     "output_type": "execute_result"
    }
   ],
   "source": [
    "df_stage1 = pd.read_csv(\"../data/cleaned_data_stage1.csv\")\n",
    "print(\"✅ cleaned_data_stage1 loaded with shape:\", df_stage1.shape)\n",
    "df_stage1.head()"
   ]
  },
  {
   "cell_type": "markdown",
   "id": "da8d3432",
   "metadata": {},
   "source": [
    "-----\n",
    "### **5. Average Car Price by Brand**"
   ]
  },
  {
   "cell_type": "code",
   "execution_count": 31,
   "id": "c333701f",
   "metadata": {},
   "outputs": [
    {
     "data": {
      "image/png": "[encoded data removed]",
      "text/plain": [
       "<Figure size 1200x600 with 1 Axes>"
      ]
     },
     "metadata": {},
     "output_type": "display_data"
    }
   ],
   "source": [
    "# Calculate the average price by car brand and sort in descending order\n",
    "avg_price_by_make = df_stage1.groupby('make', as_index=False)['price'].mean().sort_values(by='price', ascending=False)\n",
    "\n",
    "plt.figure(figsize=(12, 6))\n",
    "sns.barplot(data=avg_price_by_make, x='make', y='price', hue= 'make', palette='viridis', legend=False)\n",
    "plt.xticks(rotation=45)\n",
    "plt.title('Average Car Price by Brand')\n",
    "plt.xlabel('Brand')\n",
    "plt.ylabel('Average Price ($)')\n",
    "plt.tight_layout()\n",
    "plt.show()\n"
   ]
  },
  {
   "cell_type": "markdown",
   "id": "641ac1c9",
   "metadata": {},
   "source": [
    "### **Insights**\n",
    "\n",
    "- The bar chart of average car price by brand reveals significant variation in pricing across different manufacturers. \n",
    "- Luxury brands such as Jaguar, Buick, Porsche, and BMW command the highest average prices, indicating their focus on premium vehicles. \n",
    "- In contrast, brands like Nissan, Maxda, and Chevrolet have much lower average prices, reflecting their emphasis on affordability and mass-market appeal.\n",
    "- This distribution highlights the segmentation of the car market, with clear distinctions between luxury and economy brands. \n",
    "- Additionally, the presence of both well-known and less common brands in the top 10 suggests that brand reputation and market positioning play a crucial role in pricing strategies."
   ]
  },
  {
   "cell_type": "markdown",
   "id": "1bca4270",
   "metadata": {},
   "source": [
    "----\n",
    "### **6. Pie chart of fuel type distribution using plotly**"
   ]
  },
  {
   "cell_type": "code",
   "execution_count": null,
   "id": "a47084b5",
   "metadata": {},
   "outputs": [
    {
     "data": {
      "text/plain": [
       "fueltype\n",
       "gas       185\n",
       "diesel     20\n",
       "Name: count, dtype: int64"
      ]
     },
     "execution_count": 23,
     "metadata": {},
     "output_type": "execute_result"
    }
   ],
   "source": [
    "# check the fuel type distribution\n",
    "df_stage1['fueltype'].value_counts()"
   ]
  },
  {
   "cell_type": "code",
   "execution_count": 54,
   "id": "06a46347",
   "metadata": {},
   "outputs": [
    {
     "data": {
      "application/vnd.plotly.v1+json": {
       "config": {
        "plotlyServerURL": "https://plot.ly"
       },
       "data": [
        {
         "domain": {
          "x": [
           0,
           1
          ],
          "y": [
           0,
           1
          ]
         },
         "hovertemplate": "fueltype=%{label}<extra></extra>",
         "labels": [
          "gas",
          "gas",
          "gas",
          "gas",
          "gas",
          "gas",
          "gas",
          "gas",
          "gas",
          "gas",
          "gas",
          "gas",
          "gas",
          "gas",
          "gas",
          "gas",
          "gas",
          "gas",
          "gas",
          "gas",
          "gas",
          "gas",
          "gas",
          "gas",
          "gas",
          "gas",
          "gas",
          "gas",
          "gas",
          "gas",
          "gas",
          "gas",
          "gas",
          "gas",
          "gas",
          "gas",
          "gas",
          "gas",
          "gas",
          "gas",
          "gas",
          "gas",
          "gas",
          "gas",
          "gas",
          "gas",
          "gas",
          "gas",
          "gas",
          "gas",
          "gas",
          "gas",
          "gas",
          "gas",
          "gas",
          "gas",
          "gas",
          "gas",
          "gas",
          "gas",
          "gas",
          "gas",
          "gas",
          "diesel",
          "gas",
          "gas",
          "diesel",
          "diesel",
          "diesel",
          "diesel",
          "diesel",
          "gas",
          "gas",
          "gas",
          "gas",
          "gas",
          "gas",
          "gas",
          "gas",
          "gas",
          "gas",
          "gas",
          "gas",
          "gas",
          "gas",
          "gas",
          "gas",
          "gas",
          "gas",
          "gas",
          "diesel",
          "gas",
          "gas",
          "gas",
          "gas",
          "gas",
          "gas",
          "gas",
          "gas",
          "gas",
          "gas",
          "gas",
          "gas",
          "gas",
          "gas",
          "gas",
          "gas",
          "gas",
          "diesel",
          "gas",
          "diesel",
          "gas",
          "diesel",
          "gas",
          "diesel",
          "gas",
          "diesel",
          "gas",
          "gas",
          "gas",
          "gas",
          "gas",
          "gas",
          "gas",
          "gas",
          "gas",
          "gas",
          "gas",
          "gas",
          "gas",
          "gas",
          "gas",
          "gas",
          "gas",
          "gas",
          "gas",
          "gas",
          "gas",
          "gas",
          "gas",
          "gas",
          "gas",
          "gas",
          "gas",
          "gas",
          "gas",
          "gas",
          "gas",
          "gas",
          "gas",
          "gas",
          "gas",
          "gas",
          "gas",
          "gas",
          "gas",
          "gas",
          "gas",
          "diesel",
          "diesel",
          "gas",
          "gas",
          "gas",
          "gas",
          "gas",
          "gas",
          "gas",
          "gas",
          "gas",
          "gas",
          "gas",
          "gas",
          "gas",
          "gas",
          "diesel",
          "gas",
          "gas",
          "gas",
          "gas",
          "gas",
          "gas",
          "gas",
          "diesel",
          "gas",
          "diesel",
          "gas",
          "gas",
          "diesel",
          "gas",
          "gas",
          "gas",
          "gas",
          "diesel",
          "gas",
          "gas",
          "gas",
          "gas",
          "gas",
          "gas",
          "gas",
          "gas",
          "gas",
          "gas",
          "diesel",
          "gas"
         ],
         "legendgroup": "",
         "name": "",
         "showlegend": true,
         "type": "pie"
        }
       ],
       "layout": {
        "height": 400,
        "legend": {
         "bgcolor": "white",
         "bordercolor": "grey",
         "borderwidth": 2,
         "tracegroupgap": 0
        },
        "template": {
         "data": {
          "bar": [
           {
            "error_x": {
             "color": "#2a3f5f"
            },
            "error_y": {
             "color": "#2a3f5f"
            },
            "marker": {
             "line": {
              "color": "#E5ECF6",
              "width": 0.5
             },
             "pattern": {
              "fillmode": "overlay",
              "size": 10,
              "solidity": 0.2
             }
            },
            "type": "bar"
           }
          ],
          "barpolar": [
           {
            "marker": {
             "line": {
              "color": "#E5ECF6",
              "width": 0.5
             },
             "pattern": {
              "fillmode": "overlay",
              "size": 10,
              "solidity": 0.2
             }
            },
            "type": "barpolar"
           }
          ],
          "carpet": [
           {
            "aaxis": {
             "endlinecolor": "#2a3f5f",
             "gridcolor": "white",
             "linecolor": "white",
             "minorgridcolor": "white",
             "startlinecolor": "#2a3f5f"
            },
            "baxis": {
             "endlinecolor": "#2a3f5f",
             "gridcolor": "white",
             "linecolor": "white",
             "minorgridcolor": "white",
             "startlinecolor": "#2a3f5f"
            },
            "type": "carpet"
           }
          ],
          "choropleth": [
           {
            "colorbar": {
             "outlinewidth": 0,
             "ticks": ""
            },
            "type": "choropleth"
           }
          ],
          "contour": [
           {
            "colorbar": {
             "outlinewidth": 0,
             "ticks": ""
            },
            "colorscale": [
             [
              0,
              "#0d0887"
             ],
             [
              0.1111111111111111,
              "#46039f"
             ],
             [
              0.2222222222222222,
              "#7201a8"
             ],
             [
              0.3333333333333333,
              "#9c179e"
             ],
             [
              0.4444444444444444,
              "#bd3786"
             ],
             [
              0.5555555555555556,
              "#d8576b"
             ],
             [
              0.6666666666666666,
              "#ed7953"
             ],
             [
              0.7777777777777778,
              "#fb9f3a"
             ],
             [
              0.8888888888888888,
              "#fdca26"
             ],
             [
              1,
              "#f0f921"
             ]
            ],
            "type": "contour"
           }
          ],
          "contourcarpet": [
           {
            "colorbar": {
             "outlinewidth": 0,
             "ticks": ""
            },
            "type": "contourcarpet"
           }
          ],
          "heatmap": [
           {
            "colorbar": {
             "outlinewidth": 0,
             "ticks": ""
            },
            "colorscale": [
             [
              0,
              "#0d0887"
             ],
             [
              0.1111111111111111,
              "#46039f"
             ],
             [
              0.2222222222222222,
              "#7201a8"
             ],
             [
              0.3333333333333333,
              "#9c179e"
             ],
             [
              0.4444444444444444,
              "#bd3786"
             ],
             [
              0.5555555555555556,
              "#d8576b"
             ],
             [
              0.6666666666666666,
              "#ed7953"
             ],
             [
              0.7777777777777778,
              "#fb9f3a"
             ],
             [
              0.8888888888888888,
              "#fdca26"
             ],
             [
              1,
              "#f0f921"
             ]
            ],
            "type": "heatmap"
           }
          ],
          "histogram": [
           {
            "marker": {
             "pattern": {
              "fillmode": "overlay",
              "size": 10,
              "solidity": 0.2
             }
            },
            "type": "histogram"
           }
          ],
          "histogram2d": [
           {
            "colorbar": {
             "outlinewidth": 0,
             "ticks": ""
            },
            "colorscale": [
             [
              0,
              "#0d0887"
             ],
             [
              0.1111111111111111,
              "#46039f"
             ],
             [
              0.2222222222222222,
              "#7201a8"
             ],
             [
              0.3333333333333333,
              "#9c179e"
             ],
             [
              0.4444444444444444,
              "#bd3786"
             ],
             [
              0.5555555555555556,
              "#d8576b"
             ],
             [
              0.6666666666666666,
              "#ed7953"
             ],
             [
              0.7777777777777778,
              "#fb9f3a"
             ],
             [
              0.8888888888888888,
              "#fdca26"
             ],
             [
              1,
              "#f0f921"
             ]
            ],
            "type": "histogram2d"
           }
          ],
          "histogram2dcontour": [
           {
            "colorbar": {
             "outlinewidth": 0,
             "ticks": ""
            },
            "colorscale": [
             [
              0,
              "#0d0887"
             ],
             [
              0.1111111111111111,
              "#46039f"
             ],
             [
              0.2222222222222222,
              "#7201a8"
             ],
             [
              0.3333333333333333,
              "#9c179e"
             ],
             [
              0.4444444444444444,
              "#bd3786"
             ],
             [
              0.5555555555555556,
              "#d8576b"
             ],
             [
              0.6666666666666666,
              "#ed7953"
             ],
             [
              0.7777777777777778,
              "#fb9f3a"
             ],
             [
              0.8888888888888888,
              "#fdca26"
             ],
             [
              1,
              "#f0f921"
             ]
            ],
            "type": "histogram2dcontour"
           }
          ],
          "mesh3d": [
           {
            "colorbar": {
             "outlinewidth": 0,
             "ticks": ""
            },
            "type": "mesh3d"
           }
          ],
          "parcoords": [
           {
            "line": {
             "colorbar": {
              "outlinewidth": 0,
              "ticks": ""
             }
            },
            "type": "parcoords"
           }
          ],
          "pie": [
           {
            "automargin": true,
            "type": "pie"
           }
          ],
          "scatter": [
           {
            "fillpattern": {
             "fillmode": "overlay",
             "size": 10,
             "solidity": 0.2
            },
            "type": "scatter"
           }
          ],
          "scatter3d": [
           {
            "line": {
             "colorbar": {
              "outlinewidth": 0,
              "ticks": ""
             }
            },
            "marker": {
             "colorbar": {
              "outlinewidth": 0,
              "ticks": ""
             }
            },
            "type": "scatter3d"
           }
          ],
          "scattercarpet": [
           {
            "marker": {
             "colorbar": {
              "outlinewidth": 0,
              "ticks": ""
             }
            },
            "type": "scattercarpet"
           }
          ],
          "scattergeo": [
           {
            "marker": {
             "colorbar": {
              "outlinewidth": 0,
              "ticks": ""
             }
            },
            "type": "scattergeo"
           }
          ],
          "scattergl": [
           {
            "marker": {
             "colorbar": {
              "outlinewidth": 0,
              "ticks": ""
             }
            },
            "type": "scattergl"
           }
          ],
          "scattermap": [
           {
            "marker": {
             "colorbar": {
              "outlinewidth": 0,
              "ticks": ""
             }
            },
            "type": "scattermap"
           }
          ],
          "scattermapbox": [
           {
            "marker": {
             "colorbar": {
              "outlinewidth": 0,
              "ticks": ""
             }
            },
            "type": "scattermapbox"
           }
          ],
          "scatterpolar": [
           {
            "marker": {
             "colorbar": {
              "outlinewidth": 0,
              "ticks": ""
             }
            },
            "type": "scatterpolar"
           }
          ],
          "scatterpolargl": [
           {
            "marker": {
             "colorbar": {
              "outlinewidth": 0,
              "ticks": ""
             }
            },
            "type": "scatterpolargl"
           }
          ],
          "scatterternary": [
           {
            "marker": {
             "colorbar": {
              "outlinewidth": 0,
              "ticks": ""
             }
            },
            "type": "scatterternary"
           }
          ],
          "surface": [
           {
            "colorbar": {
             "outlinewidth": 0,
             "ticks": ""
            },
            "colorscale": [
             [
              0,
              "#0d0887"
             ],
             [
              0.1111111111111111,
              "#46039f"
             ],
             [
              0.2222222222222222,
              "#7201a8"
             ],
             [
              0.3333333333333333,
              "#9c179e"
             ],
             [
              0.4444444444444444,
              "#bd3786"
             ],
             [
              0.5555555555555556,
              "#d8576b"
             ],
             [
              0.6666666666666666,
              "#ed7953"
             ],
             [
              0.7777777777777778,
              "#fb9f3a"
             ],
             [
              0.8888888888888888,
              "#fdca26"
             ],
             [
              1,
              "#f0f921"
             ]
            ],
            "type": "surface"
           }
          ],
          "table": [
           {
            "cells": {
             "fill": {
              "color": "#EBF0F8"
             },
             "line": {
              "color": "white"
             }
            },
            "header": {
             "fill": {
              "color": "#C8D4E3"
             },
             "line": {
              "color": "white"
             }
            },
            "type": "table"
           }
          ]
         },
         "layout": {
          "annotationdefaults": {
           "arrowcolor": "#2a3f5f",
           "arrowhead": 0,
           "arrowwidth": 1
          },
          "autotypenumbers": "strict",
          "coloraxis": {
           "colorbar": {
            "outlinewidth": 0,
            "ticks": ""
           }
          },
          "colorscale": {
           "diverging": [
            [
             0,
             "#8e0152"
            ],
            [
             0.1,
             "#c51b7d"
            ],
            [
             0.2,
             "#de77ae"
            ],
            [
             0.3,
             "#f1b6da"
            ],
            [
             0.4,
             "#fde0ef"
            ],
            [
             0.5,
             "#f7f7f7"
            ],
            [
             0.6,
             "#e6f5d0"
            ],
            [
             0.7,
             "#b8e186"
            ],
            [
             0.8,
             "#7fbc41"
            ],
            [
             0.9,
             "#4d9221"
            ],
            [
             1,
             "#276419"
            ]
           ],
           "sequential": [
            [
             0,
             "#0d0887"
            ],
            [
             0.1111111111111111,
             "#46039f"
            ],
            [
             0.2222222222222222,
             "#7201a8"
            ],
            [
             0.3333333333333333,
             "#9c179e"
            ],
            [
             0.4444444444444444,
             "#bd3786"
            ],
            [
             0.5555555555555556,
             "#d8576b"
            ],
            [
             0.6666666666666666,
             "#ed7953"
            ],
            [
             0.7777777777777778,
             "#fb9f3a"
            ],
            [
             0.8888888888888888,
             "#fdca26"
            ],
            [
             1,
             "#f0f921"
            ]
           ],
           "sequentialminus": [
            [
             0,
             "#0d0887"
            ],
            [
             0.1111111111111111,
             "#46039f"
            ],
            [
             0.2222222222222222,
             "#7201a8"
            ],
            [
             0.3333333333333333,
             "#9c179e"
            ],
            [
             0.4444444444444444,
             "#bd3786"
            ],
            [
             0.5555555555555556,
             "#d8576b"
            ],
            [
             0.6666666666666666,
             "#ed7953"
            ],
            [
             0.7777777777777778,
             "#fb9f3a"
            ],
            [
             0.8888888888888888,
             "#fdca26"
            ],
            [
             1,
             "#f0f921"
            ]
           ]
          },
          "colorway": [
           "#636efa",
           "#EF553B",
           "#00cc96",
           "#ab63fa",
           "#FFA15A",
           "#19d3f3",
           "#FF6692",
           "#B6E880",
           "#FF97FF",
           "#FECB52"
          ],
          "font": {
           "color": "#2a3f5f"
          },
          "geo": {
           "bgcolor": "white",
           "lakecolor": "white",
           "landcolor": "#E5ECF6",
           "showlakes": true,
           "showland": true,
           "subunitcolor": "white"
          },
          "hoverlabel": {
           "align": "left"
          },
          "hovermode": "closest",
          "mapbox": {
           "style": "light"
          },
          "paper_bgcolor": "white",
          "plot_bgcolor": "#E5ECF6",
          "polar": {
           "angularaxis": {
            "gridcolor": "white",
            "linecolor": "white",
            "ticks": ""
           },
           "bgcolor": "#E5ECF6",
           "radialaxis": {
            "gridcolor": "white",
            "linecolor": "white",
            "ticks": ""
           }
          },
          "scene": {
           "xaxis": {
            "backgroundcolor": "#E5ECF6",
            "gridcolor": "white",
            "gridwidth": 2,
            "linecolor": "white",
            "showbackground": true,
            "ticks": "",
            "zerolinecolor": "white"
           },
           "yaxis": {
            "backgroundcolor": "#E5ECF6",
            "gridcolor": "white",
            "gridwidth": 2,
            "linecolor": "white",
            "showbackground": true,
            "ticks": "",
            "zerolinecolor": "white"
           },
           "zaxis": {
            "backgroundcolor": "#E5ECF6",
            "gridcolor": "white",
            "gridwidth": 2,
            "linecolor": "white",
            "showbackground": true,
            "ticks": "",
            "zerolinecolor": "white"
           }
          },
          "shapedefaults": {
           "line": {
            "color": "#2a3f5f"
           }
          },
          "ternary": {
           "aaxis": {
            "gridcolor": "white",
            "linecolor": "white",
            "ticks": ""
           },
           "baxis": {
            "gridcolor": "white",
            "linecolor": "white",
            "ticks": ""
           },
           "bgcolor": "#E5ECF6",
           "caxis": {
            "gridcolor": "white",
            "linecolor": "white",
            "ticks": ""
           }
          },
          "title": {
           "x": 0.05
          },
          "xaxis": {
           "automargin": true,
           "gridcolor": "white",
           "linecolor": "white",
           "ticks": "",
           "title": {
            "standoff": 15
           },
           "zerolinecolor": "white",
           "zerolinewidth": 2
          },
          "yaxis": {
           "automargin": true,
           "gridcolor": "white",
           "linecolor": "white",
           "ticks": "",
           "title": {
            "standoff": 15
           },
           "zerolinecolor": "white",
           "zerolinewidth": 2
          }
         }
        },
        "title": {
         "text": "Fuel Type Distribution"
        },
        "width": 600
       }
      }
     },
     "metadata": {},
     "output_type": "display_data"
    }
   ],
   "source": [
    "import plotly.express as px\n",
    "\n",
    "# Assuming you have a DataFrame named df with a 'fueltype' column\n",
    "fig = px.pie(df_stage1, names='fueltype', title='Fuel Type Distribution')\n",
    "fig.update_layout(width=600, height=400, legend=dict(\n",
    "        bgcolor='white',         # Background color of legend\n",
    "        bordercolor='grey',     # Border color\n",
    "        borderwidth=2            # Border thickness (in pixels)\n",
    "    ))\n",
    "\n",
    "fig.show()"
   ]
  },
  {
   "cell_type": "markdown",
   "id": "b8af868a",
   "metadata": {},
   "source": [
    "### **Insights**\n",
    "- This pie chart visualizes the distribution of different fuel types in the dataset.\n",
    "- I used Plotly to create a clean, interactive pie chart that shows the proportion of cars powered by each fuel type (e.g., petrol, diesel). \n",
    "- Understanding the fuel type breakdown helps us analyze trends in pricing, engine performance, and market preferences across fuel variants."
   ]
  },
  {
   "cell_type": "markdown",
   "id": "66134d33",
   "metadata": {},
   "source": [
    "---\n",
    "### **7. Car Price vs. Engine Size by Fuel Type**"
   ]
  },
  {
   "cell_type": "code",
   "execution_count": 38,
   "id": "3e42a617",
   "metadata": {},
   "outputs": [
    {
     "data": {
      "application/vnd.plotly.v1+json": {
       "config": {
        "plotlyServerURL": "https://plot.ly"
       },
       "data": [
        {
         "customdata": [
          [
           "alfa-romero giulia",
           "alfa-romero"
          ],
          [
           "alfa-romero stelvio",
           "alfa-romero"
          ],
          [
           "alfa-romero Quadrifoglio",
           "alfa-romero"
          ],
          [
           "audi 100 ls",
           "audi"
          ],
          [
           "audi 100ls",
           "audi"
          ],
          [
           "audi fox",
           "audi"
          ],
          [
           "audi 100ls",
           "audi"
          ],
          [
           "audi 5000",
           "audi"
          ],
          [
           "audi 4000",
           "audi"
          ],
          [
           "audi 5000s (diesel)",
           "audi"
          ],
          [
           "bmw 320i",
           "bmw"
          ],
          [
           "bmw 320i",
           "bmw"
          ],
          [
           "bmw x1",
           "bmw"
          ],
          [
           "bmw x3",
           "bmw"
          ],
          [
           "bmw z4",
           "bmw"
          ],
          [
           "bmw x4",
           "bmw"
          ],
          [
           "bmw x5",
           "bmw"
          ],
          [
           "bmw x3",
           "bmw"
          ],
          [
           "chevrolet impala",
           "chevrolet"
          ],
          [
           "chevrolet monte carlo",
           "chevrolet"
          ],
          [
           "chevrolet vega 2300",
           "chevrolet"
          ],
          [
           "dodge rampage",
           "dodge"
          ],
          [
           "dodge challenger se",
           "dodge"
          ],
          [
           "dodge d200",
           "dodge"
          ],
          [
           "dodge monaco (sw)",
           "dodge"
          ],
          [
           "dodge colt hardtop",
           "dodge"
          ],
          [
           "dodge colt (sw)",
           "dodge"
          ],
          [
           "dodge coronet custom",
           "dodge"
          ],
          [
           "dodge dart custom",
           "dodge"
          ],
          [
           "dodge coronet custom (sw)",
           "dodge"
          ],
          [
           "honda civic",
           "honda"
          ],
          [
           "honda civic cvcc",
           "honda"
          ],
          [
           "honda civic",
           "honda"
          ],
          [
           "honda accord cvcc",
           "honda"
          ],
          [
           "honda civic cvcc",
           "honda"
          ],
          [
           "honda accord lx",
           "honda"
          ],
          [
           "honda civic 1500 gl",
           "honda"
          ],
          [
           "honda accord",
           "honda"
          ],
          [
           "honda civic 1300",
           "honda"
          ],
          [
           "honda prelude",
           "honda"
          ],
          [
           "honda accord",
           "honda"
          ],
          [
           "honda civic",
           "honda"
          ],
          [
           "honda civic (auto)",
           "honda"
          ],
          [
           "isuzu MU-X",
           "isuzu"
          ],
          [
           "isuzu D-Max ",
           "isuzu"
          ],
          [
           "isuzu D-Max V-Cross",
           "isuzu"
          ],
          [
           "isuzu D-Max ",
           "isuzu"
          ],
          [
           "jaguar xj",
           "jaguar"
          ],
          [
           "jaguar xf",
           "jaguar"
          ],
          [
           "jaguar xk",
           "jaguar"
          ],
          [
           "maxda rx3",
           "maxda"
          ],
          [
           "maxda glc deluxe",
           "maxda"
          ],
          [
           "mazda rx2 coupe",
           "mazda"
          ],
          [
           "mazda rx-4",
           "mazda"
          ],
          [
           "mazda glc deluxe",
           "mazda"
          ],
          [
           "mazda 626",
           "mazda"
          ],
          [
           "mazda glc",
           "mazda"
          ],
          [
           "mazda rx-7 gs",
           "mazda"
          ],
          [
           "mazda glc 4",
           "mazda"
          ],
          [
           "mazda 626",
           "mazda"
          ],
          [
           "mazda glc custom l",
           "mazda"
          ],
          [
           "mazda glc custom",
           "mazda"
          ],
          [
           "mazda rx-4",
           "mazda"
          ],
          [
           "mazda 626",
           "mazda"
          ],
          [
           "mazda glc",
           "mazda"
          ],
          [
           "buick opel isuzu deluxe",
           "buick"
          ],
          [
           "buick skylark",
           "buick"
          ],
          [
           "buick century special",
           "buick"
          ],
          [
           "buick regal sport coupe (turbo)",
           "buick"
          ],
          [
           "mercury cougar",
           "mercury"
          ],
          [
           "mitsubishi mirage",
           "mitsubishi"
          ],
          [
           "mitsubishi lancer",
           "mitsubishi"
          ],
          [
           "mitsubishi outlander",
           "mitsubishi"
          ],
          [
           "mitsubishi g4",
           "mitsubishi"
          ],
          [
           "mitsubishi mirage g4",
           "mitsubishi"
          ],
          [
           "mitsubishi g4",
           "mitsubishi"
          ],
          [
           "mitsubishi outlander",
           "mitsubishi"
          ],
          [
           "mitsubishi g4",
           "mitsubishi"
          ],
          [
           "mitsubishi mirage g4",
           "mitsubishi"
          ],
          [
           "mitsubishi montero",
           "mitsubishi"
          ],
          [
           "mitsubishi pajero",
           "mitsubishi"
          ],
          [
           "mitsubishi outlander",
           "mitsubishi"
          ],
          [
           "mitsubishi mirage g4",
           "mitsubishi"
          ],
          [
           "Nissan versa",
           "Nissan"
          ],
          [
           "nissan rogue",
           "nissan"
          ],
          [
           "nissan latio",
           "nissan"
          ],
          [
           "nissan titan",
           "nissan"
          ],
          [
           "nissan leaf",
           "nissan"
          ],
          [
           "nissan juke",
           "nissan"
          ],
          [
           "nissan latio",
           "nissan"
          ],
          [
           "nissan note",
           "nissan"
          ],
          [
           "nissan clipper",
           "nissan"
          ],
          [
           "nissan rogue",
           "nissan"
          ],
          [
           "nissan nv200",
           "nissan"
          ],
          [
           "nissan dayz",
           "nissan"
          ],
          [
           "nissan fuga",
           "nissan"
          ],
          [
           "nissan otti",
           "nissan"
          ],
          [
           "nissan teana",
           "nissan"
          ],
          [
           "nissan kicks",
           "nissan"
          ],
          [
           "nissan clipper",
           "nissan"
          ],
          [
           "peugeot 504",
           "peugeot"
          ],
          [
           "peugeot 504 (sw)",
           "peugeot"
          ],
          [
           "peugeot 504",
           "peugeot"
          ],
          [
           "peugeot 504",
           "peugeot"
          ],
          [
           "peugeot 504",
           "peugeot"
          ],
          [
           "peugeot 604sl",
           "peugeot"
          ],
          [
           "plymouth fury iii",
           "plymouth"
          ],
          [
           "plymouth cricket",
           "plymouth"
          ],
          [
           "plymouth fury iii",
           "plymouth"
          ],
          [
           "plymouth satellite custom (sw)",
           "plymouth"
          ],
          [
           "plymouth fury gran sedan",
           "plymouth"
          ],
          [
           "plymouth valiant",
           "plymouth"
          ],
          [
           "plymouth duster",
           "plymouth"
          ],
          [
           "porsche macan",
           "porsche"
          ],
          [
           "porcshce panamera",
           "porcshce"
          ],
          [
           "porsche cayenne",
           "porsche"
          ],
          [
           "porsche boxter",
           "porsche"
          ],
          [
           "porsche cayenne",
           "porsche"
          ],
          [
           "renault 12tl",
           "renault"
          ],
          [
           "renault 5 gtl",
           "renault"
          ],
          [
           "saab 99e",
           "saab"
          ],
          [
           "saab 99le",
           "saab"
          ],
          [
           "saab 99le",
           "saab"
          ],
          [
           "saab 99gle",
           "saab"
          ],
          [
           "saab 99gle",
           "saab"
          ],
          [
           "saab 99e",
           "saab"
          ],
          [
           "subaru",
           "subaru"
          ],
          [
           "subaru dl",
           "subaru"
          ],
          [
           "subaru dl",
           "subaru"
          ],
          [
           "subaru",
           "subaru"
          ],
          [
           "subaru brz",
           "subaru"
          ],
          [
           "subaru baja",
           "subaru"
          ],
          [
           "subaru r1",
           "subaru"
          ],
          [
           "subaru r2",
           "subaru"
          ],
          [
           "subaru trezia",
           "subaru"
          ],
          [
           "subaru tribeca",
           "subaru"
          ],
          [
           "subaru dl",
           "subaru"
          ],
          [
           "subaru dl",
           "subaru"
          ],
          [
           "toyota corona mark ii",
           "toyota"
          ],
          [
           "toyota corona",
           "toyota"
          ],
          [
           "toyota corolla 1200",
           "toyota"
          ],
          [
           "toyota corona hardtop",
           "toyota"
          ],
          [
           "toyota corolla 1600 (sw)",
           "toyota"
          ],
          [
           "toyota carina",
           "toyota"
          ],
          [
           "toyota mark ii",
           "toyota"
          ],
          [
           "toyota corolla 1200",
           "toyota"
          ],
          [
           "toyota corona",
           "toyota"
          ],
          [
           "toyota corolla",
           "toyota"
          ],
          [
           "toyota mark ii",
           "toyota"
          ],
          [
           "toyota corolla liftback",
           "toyota"
          ],
          [
           "toyota corona",
           "toyota"
          ],
          [
           "toyota celica gt liftback",
           "toyota"
          ],
          [
           "toyota corolla tercel",
           "toyota"
          ],
          [
           "toyota corona liftback",
           "toyota"
          ],
          [
           "toyota corolla",
           "toyota"
          ],
          [
           "toyota starlet",
           "toyota"
          ],
          [
           "toyota tercel",
           "toyota"
          ],
          [
           "toyota corolla",
           "toyota"
          ],
          [
           "toyota cressida",
           "toyota"
          ],
          [
           "toyota corolla",
           "toyota"
          ],
          [
           "toyota corona",
           "toyota"
          ],
          [
           "toyota corolla",
           "toyota"
          ],
          [
           "toyota mark ii",
           "toyota"
          ],
          [
           "toyota corolla liftback",
           "toyota"
          ],
          [
           "toyota corona",
           "toyota"
          ],
          [
           "toyota starlet",
           "toyota"
          ],
          [
           "toyouta tercel",
           "toyouta"
          ],
          [
           "volkswagen 1131 deluxe sedan",
           "volkswagen"
          ],
          [
           "volkswagen type 3",
           "volkswagen"
          ],
          [
           "volkswagen 411 (sw)",
           "volkswagen"
          ],
          [
           "volkswagen dasher",
           "volkswagen"
          ],
          [
           "vw dasher",
           "vw"
          ],
          [
           "vw rabbit",
           "vw"
          ],
          [
           "volkswagen rabbit",
           "volkswagen"
          ],
          [
           "volkswagen dasher",
           "volkswagen"
          ],
          [
           "volvo 145e (sw)",
           "volvo"
          ],
          [
           "volvo 144ea",
           "volvo"
          ],
          [
           "volvo 244dl",
           "volvo"
          ],
          [
           "volvo 245",
           "volvo"
          ],
          [
           "volvo 264gl",
           "volvo"
          ],
          [
           "volvo diesel",
           "volvo"
          ],
          [
           "volvo 145e (sw)",
           "volvo"
          ],
          [
           "volvo 144ea",
           "volvo"
          ],
          [
           "volvo 244dl",
           "volvo"
          ],
          [
           "volvo 264gl",
           "volvo"
          ]
         ],
         "hovertemplate": "Fuel Type=gas<br>Engine Size (cc)=%{x}<br>Price ($)=%{y}<br>carname=%{customdata[0]}<br>make=%{customdata[1]}<extra></extra>",
         "legendgroup": "gas",
         "marker": {
          "color": "#636efa",
          "symbol": "circle"
         },
         "mode": "markers",
         "name": "gas",
         "orientation": "v",
         "showlegend": true,
         "type": "scatter",
         "x": {
          "bdata": "ggCCAJgAbQCIAIgAiACIAIMAgwBsAGwApACkAKQA0QDRANEAPQBaAFoAWgBaAGIAWgBaAFoAYgB6AJwAXABcAE8AXABcAFwAXABuAG4AbgBuAG4AbgBvAFoAWgB3AAIBAgFGAVsAWwBbAFsAWwBGAEYARgBQAHoAegB6AHoAegCMAOoA6gA0ATABjABcAFwAXABiAG4AegCcAJwAnAB6AHoAbgBuAGEAYQBhAGEAYQBhAGEAYQBhAHgAeAC1ALUAtQC1ALUAtQB4AHgAeAB4AHgAhgBaAGIAWgBaAGIAegCcAJcAwgDCAMIAywCEAIQAeQB5AHkAeQB5AHkAYQBsAGwAbABsAGwAbABsAGwAbABsAGwAXABcAFwAXABcAFwAYgBiAGIAYgBiAGIAYgBiAGIAkgCSAJIAkgCSAJIAegB6AHoAegCrAKsAqwChAG0AbQBtAG0AbQBtAIgAbQCNAI0AjQCNAIIAggCNAI0ArQCNAA==",
          "dtype": "i2"
         },
         "xaxis": "x",
         "y": {
          "bdata": "AAAAAIBbykAAAAAAAB3QQAAAAAAAHdBAAAAAAAA/y0AAAAAAgArRQAAAAAAAyc1AAAAAAIBL0UAAAAAAAHrSQAAAAADAUNdAnMQgsMpw0UAAAAAAgAvQQAAAAABAh9BAAAAAAIB61EAAAAAAQJzUQAAAAABA/ddAAAAAAAAK3kAAAAAAYCzkQAAAAAAAAuJAAAAAAAAftEAAAAAAAJe4QAAAAAAAr7lAAAAAAADEtUAAAAAAAOm4QAAAAAAAFb9AAAAAAABVuEAAAAAAACS6QAAAAAAAub1AAAAAAAC3wEAAAAAAgGzBQAAAAAAAUslAAAAAAABPuUAAAAAAAMe6QAAAAAAAF7VAAAAAAACBuUAAAAAAANm7QAAAAAAAf7xAAAAAAAB/vEAAAAAAANe+QAAAAACAw8FAAAAAAIBGwUAAAAAAgBvEQAAAAACASMlAAAAAAIA0xEAAAAAAAIG6QAAAAABAasFAAAAAAEBqwUAAAAAAAJTFQAAAAACAft9AAAAAAMBb4UAAAAAAAJThQAAAAAAAS7RAAAAAAADPt0AAAAAAAIu6QAAAAAAAJ7pAAAAAAADjvEAAAAAAgGDFQAAAAACAIsdAAAAAAICmykAAAAAAgI7OQAAAAACARsFAAAAAAICXwEAAAAAAgLHEQAAAAACAAsRAAAAAAID2xUAAAAAAANrRQAAAAAAAseBAAAAAAAAe4UAAAAAAAADkQAAAAAAAK+ZAAAAAAMAd0EAAAAAAAA21QAAAAAAALbhAAAAAAAANukAAAAAAAAm+QAAAAACAc8NAAAAAAICZwEAAAAAAgKrIQAAAAACACs1AAAAAAIBMzEAAAAAAAE27QAAAAAAA/b9AAAAAAIAfwkAAAAAAgB/CQAAAAAAAe7VAAAAAAAD5uUAAAAAAAMG6QAAAAAAAtbxAAAAAAACDvEAAAAAAAHe+QAAAAAAAS71AAAAAAAA/v0AAAAAAgBzAQAAAAACAesFAAAAAAICmwkAAAAAAgF3KQAAAAACAH8xAAAAAAIBdykAAAAAAwMvQQAAAAADAPNNAAAAAAMD30UAAAAAAAD7HQAAAAAAATMhAAAAAAABuzkAAAAAAwE3QQAAAAACAPdBAAAAAAIC50UAAAAAAAMS1QAAAAAAAFb9AAAAAAABVuEAAAAAAACS6QAAAAAAAub1AAAAAAIBswUAAAAAAAO7IQAAAAACAgNVAAAAAAADE30AAAAAAgJ3gQAAAAACAFOJAAAAAACCq3kAAAAAAgCfCQAAAAACAU8NAAAAAAAAlx0AAAAAAAMXHQAAAAAAAYM1AAAAAAABLzkAAAAAAgLnRQAAAAAAAL9JAAAAAAAD+s0AAAAAAAI27QAAAAAAAs71AAAAAAADWu0AAAAAAAF++QAAAAAAAdMNAAAAAAIAIwkAAAAAAgP3FQAAAAAAAJ71AAAAAAADrw0AAAAAAAE2/QAAAAAAA18ZAAAAAAADktEAAAAAAAMK4QAAAAAAAWLlAAAAAAAAGu0AAAAAAANq+QAAAAAAAJcFAAAAAAAAau0AAAAAAAB68QAAAAAAAOr5AAAAAAABTwEAAAAAAABXCQAAAAAAAer9AAAAAAAAXwEAAAAAAACnCQAAAAAAAocJAAAAAAICAwEAAAAAAgNPCQAAAAACAgsNAAAAAAIDfxUAAAAAAgI7GQAAAAABAQdFAAAAAAAB6wUAAAAAAAILDQAAAAAAAScVAAAAAAAD4xUAAAAAAgCvQQAAAAAAAP89AAAAAAAClzkAAAAAAAMPOQAAAAAAAJ79AAAAAAIABwEAAAAAAgJfAQAAAAACAhcNAAAAAAIClxkAAAAAAAH7DQAAAAACA98lAAAAAAAAByEAAAAAAAEbJQAAAAACAM8pAAAAAAIA4z0AAAAAAwCDQQAAAAAAA/dFAAAAAAICB0kAAAAAAQHPQQAAAAABAmdJAAAAAAED71EAAAAAAQBjWQA==",
          "dtype": "f8"
         },
         "yaxis": "y"
        },
        {
         "customdata": [
          [
           "mazda glc deluxe",
           "mazda"
          ],
          [
           "mazda rx-7 gs",
           "mazda"
          ],
          [
           "buick electra 225 custom",
           "buick"
          ],
          [
           "buick century luxus (sw)",
           "buick"
          ],
          [
           "buick century",
           "buick"
          ],
          [
           "buick skyhawk",
           "buick"
          ],
          [
           "nissan gt-r",
           "nissan"
          ],
          [
           "peugeot 304",
           "peugeot"
          ],
          [
           "peugeot 504",
           "peugeot"
          ],
          [
           "peugeot 604sl",
           "peugeot"
          ],
          [
           "peugeot 505s turbo diesel",
           "peugeot"
          ],
          [
           "peugeot 504",
           "peugeot"
          ],
          [
           "toyota corona",
           "toyota"
          ],
          [
           "toyota corolla",
           "toyota"
          ],
          [
           "toyota celica gt",
           "toyota"
          ],
          [
           "vokswagen rabbit",
           "vokswagen"
          ],
          [
           "volkswagen model 111",
           "volkswagen"
          ],
          [
           "volkswagen super beetle",
           "volkswagen"
          ],
          [
           "volkswagen rabbit custom",
           "volkswagen"
          ],
          [
           "volvo 246",
           "volvo"
          ]
         ],
         "hovertemplate": "Fuel Type=diesel<br>Engine Size (cc)=%{x}<br>Price ($)=%{y}<br>carname=%{customdata[0]}<br>make=%{customdata[1]}<extra></extra>",
         "legendgroup": "diesel",
         "marker": {
          "color": "#EF553B",
          "symbol": "circle"
         },
         "mode": "markers",
         "name": "diesel",
         "orientation": "v",
         "showlegend": true,
         "type": "scatter",
         "x": {
          "bdata": "egCGALcAtwC3ALcAZwCYAJgAmACYAJgAbgBuAG4AYQBhAGEAYQCRAA==",
          "dtype": "i2"
         },
         "xaxis": "x",
         "y": {
          "bdata": "AAAAAIAVxUAAAAAAAOrRQAAAAAAA9NhAAAAAAACW20AAAAAAAITbQAAAAAAA3N5AAAAAAAC7u0AAAAAAAMjJQAAAAAAAEstAAAAAAACB0EAAAAAAwKzQQAAAAACAh9FAAAAAAADavkAAAAAAAGy+QAAAAAAA5cRAAAAAAABfvkAAAAAAADu/QAAAAACAi8JAAAAAAIAKy0AAAAAAgPHVQA==",
          "dtype": "f8"
         },
         "yaxis": "y"
        }
       ],
       "layout": {
        "legend": {
         "title": {
          "text": "Fuel Type"
         },
         "tracegroupgap": 0
        },
        "template": {
         "data": {
          "bar": [
           {
            "error_x": {
             "color": "#2a3f5f"
            },
            "error_y": {
             "color": "#2a3f5f"
            },
            "marker": {
             "line": {
              "color": "#E5ECF6",
              "width": 0.5
             },
             "pattern": {
              "fillmode": "overlay",
              "size": 10,
              "solidity": 0.2
             }
            },
            "type": "bar"
           }
          ],
          "barpolar": [
           {
            "marker": {
             "line": {
              "color": "#E5ECF6",
              "width": 0.5
             },
             "pattern": {
              "fillmode": "overlay",
              "size": 10,
              "solidity": 0.2
             }
            },
            "type": "barpolar"
           }
          ],
          "carpet": [
           {
            "aaxis": {
             "endlinecolor": "#2a3f5f",
             "gridcolor": "white",
             "linecolor": "white",
             "minorgridcolor": "white",
             "startlinecolor": "#2a3f5f"
            },
            "baxis": {
             "endlinecolor": "#2a3f5f",
             "gridcolor": "white",
             "linecolor": "white",
             "minorgridcolor": "white",
             "startlinecolor": "#2a3f5f"
            },
            "type": "carpet"
           }
          ],
          "choropleth": [
           {
            "colorbar": {
             "outlinewidth": 0,
             "ticks": ""
            },
            "type": "choropleth"
           }
          ],
          "contour": [
           {
            "colorbar": {
             "outlinewidth": 0,
             "ticks": ""
            },
            "colorscale": [
             [
              0,
              "#0d0887"
             ],
             [
              0.1111111111111111,
              "#46039f"
             ],
             [
              0.2222222222222222,
              "#7201a8"
             ],
             [
              0.3333333333333333,
              "#9c179e"
             ],
             [
              0.4444444444444444,
              "#bd3786"
             ],
             [
              0.5555555555555556,
              "#d8576b"
             ],
             [
              0.6666666666666666,
              "#ed7953"
             ],
             [
              0.7777777777777778,
              "#fb9f3a"
             ],
             [
              0.8888888888888888,
              "#fdca26"
             ],
             [
              1,
              "#f0f921"
             ]
            ],
            "type": "contour"
           }
          ],
          "contourcarpet": [
           {
            "colorbar": {
             "outlinewidth": 0,
             "ticks": ""
            },
            "type": "contourcarpet"
           }
          ],
          "heatmap": [
           {
            "colorbar": {
             "outlinewidth": 0,
             "ticks": ""
            },
            "colorscale": [
             [
              0,
              "#0d0887"
             ],
             [
              0.1111111111111111,
              "#46039f"
             ],
             [
              0.2222222222222222,
              "#7201a8"
             ],
             [
              0.3333333333333333,
              "#9c179e"
             ],
             [
              0.4444444444444444,
              "#bd3786"
             ],
             [
              0.5555555555555556,
              "#d8576b"
             ],
             [
              0.6666666666666666,
              "#ed7953"
             ],
             [
              0.7777777777777778,
              "#fb9f3a"
             ],
             [
              0.8888888888888888,
              "#fdca26"
             ],
             [
              1,
              "#f0f921"
             ]
            ],
            "type": "heatmap"
           }
          ],
          "histogram": [
           {
            "marker": {
             "pattern": {
              "fillmode": "overlay",
              "size": 10,
              "solidity": 0.2
             }
            },
            "type": "histogram"
           }
          ],
          "histogram2d": [
           {
            "colorbar": {
             "outlinewidth": 0,
             "ticks": ""
            },
            "colorscale": [
             [
              0,
              "#0d0887"
             ],
             [
              0.1111111111111111,
              "#46039f"
             ],
             [
              0.2222222222222222,
              "#7201a8"
             ],
             [
              0.3333333333333333,
              "#9c179e"
             ],
             [
              0.4444444444444444,
              "#bd3786"
             ],
             [
              0.5555555555555556,
              "#d8576b"
             ],
             [
              0.6666666666666666,
              "#ed7953"
             ],
             [
              0.7777777777777778,
              "#fb9f3a"
             ],
             [
              0.8888888888888888,
              "#fdca26"
             ],
             [
              1,
              "#f0f921"
             ]
            ],
            "type": "histogram2d"
           }
          ],
          "histogram2dcontour": [
           {
            "colorbar": {
             "outlinewidth": 0,
             "ticks": ""
            },
            "colorscale": [
             [
              0,
              "#0d0887"
             ],
             [
              0.1111111111111111,
              "#46039f"
             ],
             [
              0.2222222222222222,
              "#7201a8"
             ],
             [
              0.3333333333333333,
              "#9c179e"
             ],
             [
              0.4444444444444444,
              "#bd3786"
             ],
             [
              0.5555555555555556,
              "#d8576b"
             ],
             [
              0.6666666666666666,
              "#ed7953"
             ],
             [
              0.7777777777777778,
              "#fb9f3a"
             ],
             [
              0.8888888888888888,
              "#fdca26"
             ],
             [
              1,
              "#f0f921"
             ]
            ],
            "type": "histogram2dcontour"
           }
          ],
          "mesh3d": [
           {
            "colorbar": {
             "outlinewidth": 0,
             "ticks": ""
            },
            "type": "mesh3d"
           }
          ],
          "parcoords": [
           {
            "line": {
             "colorbar": {
              "outlinewidth": 0,
              "ticks": ""
             }
            },
            "type": "parcoords"
           }
          ],
          "pie": [
           {
            "automargin": true,
            "type": "pie"
           }
          ],
          "scatter": [
           {
            "fillpattern": {
             "fillmode": "overlay",
             "size": 10,
             "solidity": 0.2
            },
            "type": "scatter"
           }
          ],
          "scatter3d": [
           {
            "line": {
             "colorbar": {
              "outlinewidth": 0,
              "ticks": ""
             }
            },
            "marker": {
             "colorbar": {
              "outlinewidth": 0,
              "ticks": ""
             }
            },
            "type": "scatter3d"
           }
          ],
          "scattercarpet": [
           {
            "marker": {
             "colorbar": {
              "outlinewidth": 0,
              "ticks": ""
             }
            },
            "type": "scattercarpet"
           }
          ],
          "scattergeo": [
           {
            "marker": {
             "colorbar": {
              "outlinewidth": 0,
              "ticks": ""
             }
            },
            "type": "scattergeo"
           }
          ],
          "scattergl": [
           {
            "marker": {
             "colorbar": {
              "outlinewidth": 0,
              "ticks": ""
             }
            },
            "type": "scattergl"
           }
          ],
          "scattermap": [
           {
            "marker": {
             "colorbar": {
              "outlinewidth": 0,
              "ticks": ""
             }
            },
            "type": "scattermap"
           }
          ],
          "scattermapbox": [
           {
            "marker": {
             "colorbar": {
              "outlinewidth": 0,
              "ticks": ""
             }
            },
            "type": "scattermapbox"
           }
          ],
          "scatterpolar": [
           {
            "marker": {
             "colorbar": {
              "outlinewidth": 0,
              "ticks": ""
             }
            },
            "type": "scatterpolar"
           }
          ],
          "scatterpolargl": [
           {
            "marker": {
             "colorbar": {
              "outlinewidth": 0,
              "ticks": ""
             }
            },
            "type": "scatterpolargl"
           }
          ],
          "scatterternary": [
           {
            "marker": {
             "colorbar": {
              "outlinewidth": 0,
              "ticks": ""
             }
            },
            "type": "scatterternary"
           }
          ],
          "surface": [
           {
            "colorbar": {
             "outlinewidth": 0,
             "ticks": ""
            },
            "colorscale": [
             [
              0,
              "#0d0887"
             ],
             [
              0.1111111111111111,
              "#46039f"
             ],
             [
              0.2222222222222222,
              "#7201a8"
             ],
             [
              0.3333333333333333,
              "#9c179e"
             ],
             [
              0.4444444444444444,
              "#bd3786"
             ],
             [
              0.5555555555555556,
              "#d8576b"
             ],
             [
              0.6666666666666666,
              "#ed7953"
             ],
             [
              0.7777777777777778,
              "#fb9f3a"
             ],
             [
              0.8888888888888888,
              "#fdca26"
             ],
             [
              1,
              "#f0f921"
             ]
            ],
            "type": "surface"
           }
          ],
          "table": [
           {
            "cells": {
             "fill": {
              "color": "#EBF0F8"
             },
             "line": {
              "color": "white"
             }
            },
            "header": {
             "fill": {
              "color": "#C8D4E3"
             },
             "line": {
              "color": "white"
             }
            },
            "type": "table"
           }
          ]
         },
         "layout": {
          "annotationdefaults": {
           "arrowcolor": "#2a3f5f",
           "arrowhead": 0,
           "arrowwidth": 1
          },
          "autotypenumbers": "strict",
          "coloraxis": {
           "colorbar": {
            "outlinewidth": 0,
            "ticks": ""
           }
          },
          "colorscale": {
           "diverging": [
            [
             0,
             "#8e0152"
            ],
            [
             0.1,
             "#c51b7d"
            ],
            [
             0.2,
             "#de77ae"
            ],
            [
             0.3,
             "#f1b6da"
            ],
            [
             0.4,
             "#fde0ef"
            ],
            [
             0.5,
             "#f7f7f7"
            ],
            [
             0.6,
             "#e6f5d0"
            ],
            [
             0.7,
             "#b8e186"
            ],
            [
             0.8,
             "#7fbc41"
            ],
            [
             0.9,
             "#4d9221"
            ],
            [
             1,
             "#276419"
            ]
           ],
           "sequential": [
            [
             0,
             "#0d0887"
            ],
            [
             0.1111111111111111,
             "#46039f"
            ],
            [
             0.2222222222222222,
             "#7201a8"
            ],
            [
             0.3333333333333333,
             "#9c179e"
            ],
            [
             0.4444444444444444,
             "#bd3786"
            ],
            [
             0.5555555555555556,
             "#d8576b"
            ],
            [
             0.6666666666666666,
             "#ed7953"
            ],
            [
             0.7777777777777778,
             "#fb9f3a"
            ],
            [
             0.8888888888888888,
             "#fdca26"
            ],
            [
             1,
             "#f0f921"
            ]
           ],
           "sequentialminus": [
            [
             0,
             "#0d0887"
            ],
            [
             0.1111111111111111,
             "#46039f"
            ],
            [
             0.2222222222222222,
             "#7201a8"
            ],
            [
             0.3333333333333333,
             "#9c179e"
            ],
            [
             0.4444444444444444,
             "#bd3786"
            ],
            [
             0.5555555555555556,
             "#d8576b"
            ],
            [
             0.6666666666666666,
             "#ed7953"
            ],
            [
             0.7777777777777778,
             "#fb9f3a"
            ],
            [
             0.8888888888888888,
             "#fdca26"
            ],
            [
             1,
             "#f0f921"
            ]
           ]
          },
          "colorway": [
           "#636efa",
           "#EF553B",
           "#00cc96",
           "#ab63fa",
           "#FFA15A",
           "#19d3f3",
           "#FF6692",
           "#B6E880",
           "#FF97FF",
           "#FECB52"
          ],
          "font": {
           "color": "#2a3f5f"
          },
          "geo": {
           "bgcolor": "white",
           "lakecolor": "white",
           "landcolor": "#E5ECF6",
           "showlakes": true,
           "showland": true,
           "subunitcolor": "white"
          },
          "hoverlabel": {
           "align": "left"
          },
          "hovermode": "closest",
          "mapbox": {
           "style": "light"
          },
          "paper_bgcolor": "white",
          "plot_bgcolor": "#E5ECF6",
          "polar": {
           "angularaxis": {
            "gridcolor": "white",
            "linecolor": "white",
            "ticks": ""
           },
           "bgcolor": "#E5ECF6",
           "radialaxis": {
            "gridcolor": "white",
            "linecolor": "white",
            "ticks": ""
           }
          },
          "scene": {
           "xaxis": {
            "backgroundcolor": "#E5ECF6",
            "gridcolor": "white",
            "gridwidth": 2,
            "linecolor": "white",
            "showbackground": true,
            "ticks": "",
            "zerolinecolor": "white"
           },
           "yaxis": {
            "backgroundcolor": "#E5ECF6",
            "gridcolor": "white",
            "gridwidth": 2,
            "linecolor": "white",
            "showbackground": true,
            "ticks": "",
            "zerolinecolor": "white"
           },
           "zaxis": {
            "backgroundcolor": "#E5ECF6",
            "gridcolor": "white",
            "gridwidth": 2,
            "linecolor": "white",
            "showbackground": true,
            "ticks": "",
            "zerolinecolor": "white"
           }
          },
          "shapedefaults": {
           "line": {
            "color": "#2a3f5f"
           }
          },
          "ternary": {
           "aaxis": {
            "gridcolor": "white",
            "linecolor": "white",
            "ticks": ""
           },
           "baxis": {
            "gridcolor": "white",
            "linecolor": "white",
            "ticks": ""
           },
           "bgcolor": "#E5ECF6",
           "caxis": {
            "gridcolor": "white",
            "linecolor": "white",
            "ticks": ""
           }
          },
          "title": {
           "x": 0.05
          },
          "xaxis": {
           "automargin": true,
           "gridcolor": "white",
           "linecolor": "white",
           "ticks": "",
           "title": {
            "standoff": 15
           },
           "zerolinecolor": "white",
           "zerolinewidth": 2
          },
          "yaxis": {
           "automargin": true,
           "gridcolor": "white",
           "linecolor": "white",
           "ticks": "",
           "title": {
            "standoff": 15
           },
           "zerolinecolor": "white",
           "zerolinewidth": 2
          }
         }
        },
        "title": {
         "text": "Car Price vs. Engine Size"
        },
        "xaxis": {
         "anchor": "y",
         "domain": [
          0,
          1
         ],
         "title": {
          "text": "Engine Size (cc)"
         }
        },
        "yaxis": {
         "anchor": "x",
         "domain": [
          0,
          1
         ],
         "title": {
          "text": "Price ($)"
         }
        }
       }
      }
     },
     "metadata": {},
     "output_type": "display_data"
    }
   ],
   "source": [
    "import plotly.express as px\n",
    "\n",
    "fig = px.scatter(\n",
    "    df_stage1,\n",
    "    x=\"enginesize\",\n",
    "    y=\"price\",\n",
    "    color=\"fueltype\",\n",
    "    hover_data=[\"carname\", \"make\"],\n",
    "    title=\"Car Price vs. Engine Size\",\n",
    "    labels={\"enginesize\": \"Engine Size (cc)\", \"price\": \"Price ($)\", \"fueltype\": \"Fuel Type\"},\n",
    "    color_discrete_map=fueltype_colors\n",
    ")\n",
    "fig.show()"
   ]
  },
  {
   "cell_type": "markdown",
   "id": "cfb4ca4e",
   "metadata": {},
   "source": [
    "### **Insights**\n",
    "- There is a general upward trend: as engine size increases, car prices tend to rise.\n",
    "- Based on my finding here in the scatter plot with the fuel types based on Gas and Diesel with Gas being in blue and diesel in red with the exact prices found based on the engine size of each car.\n",
    "- Gasoline vehicles dominate the lower engine-size and price segments.\n",
    "- Diesel cars, though fewer in number, tend to cluster at higher engine sizes and sometimes higher prices.\n",
    "- Outliers may indicate luxury or high-performance vehicles."
   ]
  },
  {
   "cell_type": "markdown",
   "id": "96425bbd",
   "metadata": {},
   "source": [
    "---\n",
    "### **Notebook Summary**\n",
    "- This notebook presented a complete data analysis workflow, starting from loading and cleaning raw car data to creating insightful visualizations and extracting key trends.\n",
    "- By handling missing and negative values thoughtfully, we ensured the integrity of the dataset.\n",
    "- Visual exploration revealed how features like brand, engine size, and fuel type influence car prices.\n",
    "- The analysis highlighted clear market segmentation between luxury and economy brands, as well as differences in fuel type distributions. \n",
    "- Additional advanced visualizations and dashboard designs have been implemented using Power BI for enhanced interactivity and reporting."
   ]
  },
  {
   "cell_type": "markdown",
   "id": "a5d64dc0",
   "metadata": {},
   "source": [
    "---"
   ]
  }
 ],
 "metadata": {
  "kernelspec": {
   "display_name": ".venv",
   "language": "python",
   "name": "python3"
  },
  "language_info": {
   "codemirror_mode": {
    "name": "ipython",
    "version": 3
   },
   "file_extension": ".py",
   "mimetype": "text/x-python",
   "name": "python",
   "nbconvert_exporter": "python",
   "pygments_lexer": "ipython3",
   "version": "3.12.8"
  }
 },
 "nbformat": 4,
 "nbformat_minor": 5
}
